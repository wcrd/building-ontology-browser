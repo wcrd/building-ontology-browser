{
 "cells": [
  {
   "cell_type": "code",
   "execution_count": 13,
   "metadata": {},
   "outputs": [],
   "source": [
    "'''\n",
    "@wcrd\n",
    "This script processes a ttl file and builds a ag-grid formatted tree view data source\n",
    "'''\n",
    "\n",
    "import rdflib\n",
    "from typing import Tuple, List\n",
    "import json"
   ]
  },
  {
   "cell_type": "code",
   "execution_count": 14,
   "metadata": {},
   "outputs": [],
   "source": [
    "\n",
    "## INPUT FILES\n",
    "SWITCH_PATH = \"../data/ontology/switch.ttl\"\n",
    "BRICK_PATH = \"../data/ontology/brick.ttl\""
   ]
  },
  {
   "cell_type": "markdown",
   "metadata": {},
   "source": [
    "### LOAD INTO GRAPH"
   ]
  },
  {
   "cell_type": "code",
   "execution_count": 15,
   "metadata": {},
   "outputs": [],
   "source": [
    "\n",
    "## LOAD FILES INTO GRAPH\n",
    "ds = rdflib.Dataset(default_union=True)\n",
    "# Generic namespace I am going to use to name the graphs\n",
    "ds_ns = rdflib.Namespace(\"https://_graph_.com#\")\n",
    "# lets load it with data from brick and switch.\n",
    "# this will add graph if it doesn't exist, or return the existing one.\n",
    "# could also do this independently using add_graph() method.\n",
    "ds.graph(ds_ns['brick']).parse(BRICK_PATH, format='turtle');\n",
    "ds.graph(ds_ns['switch']).parse(SWITCH_PATH, format=\"turtle\");\n"
   ]
  },
  {
   "cell_type": "code",
   "execution_count": 16,
   "metadata": {},
   "outputs": [
    {
     "name": "stdout",
     "output_type": "stream",
     "text": [
      "Total DS entries: 36789\n",
      "Graphs created:\n",
      "<https://_graph_.com#brick> a rdfg:Graph;rdflib:storage [a rdflib:Store;rdfs:label 'IOMemory']. ---- Entries: 34243\n",
      "<https://_graph_.com#switch> a rdfg:Graph;rdflib:storage [a rdflib:Store;rdfs:label 'IOMemory']. ---- Entries: 2684\n",
      "<urn:x-rdflib:default> a rdfg:Graph;rdflib:storage [a rdflib:Store;rdfs:label 'IOMemory']. ---- Entries: 0\n"
     ]
    }
   ],
   "source": [
    "# generate namespaces\n",
    "ds_g_ns = dict(ds.namespaces())\n",
    "# check that graphs created.\n",
    "contexts = ds.graphs()\n",
    "print(f\"Total DS entries: {len(ds)}\")\n",
    "print(\"Graphs created:\")\n",
    "for c in contexts:\n",
    "    print(f\"{c} ---- Entries: {len(ds.graph(c))}\")"
   ]
  },
  {
   "cell_type": "markdown",
   "metadata": {},
   "source": [
    "### GENERATE TREE"
   ]
  },
  {
   "cell_type": "code",
   "execution_count": 17,
   "metadata": {},
   "outputs": [],
   "source": [
    "# URI PROCESSOR\n",
    "def uri_spliter(uri: rdflib.term.URIRef, ns: dict = {}) -> Tuple[str, str, str]:\n",
    "    '''\n",
    "    Given a URI, split into namespace and term.\n",
    "    If a ns dict is given, return the prefix for that namespace as well\n",
    "    (ns, term, prefix)\n",
    "    '''\n",
    "    try:\n",
    "        chunks = uri.toPython().split(\"#\")\n",
    "        if len(chunks) == 1:\n",
    "            # no # found, lets try spliting on last / (i.e. QUDT uses this system)\n",
    "            chunks = uri.toPython().rsplit(\"/\", 1)\n",
    "        namespace = chunks[0]\n",
    "        term = chunks[1]\n",
    "    except IndexError:\n",
    "        print(f\"URI did not resolve into parts: {uri}\")\n",
    "        return (None,None,None)\n",
    "    except:\n",
    "        raise ValueError(f\"Error parsing URI: {uri}\")\n",
    "    \n",
    "    if ns:\n",
    "        try:\n",
    "            prefix = next(key for key, value in ns.items() if value.toPython() in [f\"{namespace}#\", f\"{namespace}/\"])\n",
    "            return (namespace, term, prefix)\n",
    "        except StopIteration:\n",
    "            pass\n",
    "    \n",
    "    return (namespace, term, None)\n"
   ]
  },
  {
   "cell_type": "code",
   "execution_count": 18,
   "metadata": {},
   "outputs": [
    {
     "name": "stdout",
     "output_type": "stream",
     "text": [
      "1715\n"
     ]
    }
   ],
   "source": [
    "# PARSE GRAPHS TO BUILD OUTPUT DATA\n",
    "# get list of subjects to include in our reference file\n",
    "subjects = ds.subjects()\n",
    "# filter out BNodes\n",
    "subjects = set(filter(lambda x: not isinstance(x, rdflib.term.BNode), subjects))\n",
    "# filter out all 'Brick Tags'\n",
    "subjects = list(filter(lambda x: f\"{uri_spliter(x)[0]}#\" != ds_g_ns['tag'].toPython(), subjects))\n",
    "# filter out all true Shapes\n",
    "subjects = list(filter(lambda x: f\"{uri_spliter(x)[0]}#\" != ds_g_ns['bsh'].toPython(), subjects))\n",
    "# filter out Unit definitions\n",
    "subjects = list(filter(lambda x: f\"{uri_spliter(x)[0]}/\" != ds_g_ns['unit'].toPython(), subjects))\n",
    "\n",
    "print(len(subjects))"
   ]
  },
  {
   "cell_type": "code",
   "execution_count": 19,
   "metadata": {},
   "outputs": [],
   "source": [
    "#### Path Generating Functions\n",
    "\n",
    "def get_class_heirarchy(class_uri, graph, base_level = 1, depth_limit=15, initial_path=[]):\n",
    "    '''\n",
    "    :base_level: how far down the class heirarchy to return as 'base'. base_level=0 is the root (for brick, this is simply 'Class')\n",
    "    '''\n",
    "    depth = 0\n",
    "    # # get type of entity\n",
    "    # entity_class = list(graph.objects(entity, rdflib.RDF.type))\n",
    "    # if len(entity_class)==0:\n",
    "    #     raise ValueError(f\"No class found in graph for entity {entity}.\")\n",
    "\n",
    "    # Check Class exists\n",
    "    if (class_uri, None, None) not in graph:\n",
    "        raise ValueError(f\"No class found in graph for class {class_uri}.\")\n",
    "\n",
    "    path = _climb_class_heirarchy(class_uri, graph, depth_limit, depth, initial_path)\n",
    "\n",
    "    try:\n",
    "        # return path[base_level]\n",
    "        return path\n",
    "    except IndexError:\n",
    "        print(f\"Requested base level {base_level} does not exist. Returning level 0 instead\")\n",
    "        return path[0]\n",
    "\n",
    "\n",
    "def _climb_class_heirarchy(entity_class, graph, depth_limit, depth, path=[]) -> list:\n",
    "    '''\n",
    "    Path is used for storing the journey to the root class. Users can request base class at level {n}. Base of all classes is 'Class' which is level 0.\n",
    "    '''\n",
    "    # guard\n",
    "    if depth >= depth_limit:\n",
    "        raise RecursionError(f\"Max depth of {depth_limit} reached. Increase depth_limit parameter if required.\")\n",
    "\n",
    "    # add current class to path\n",
    "    path = [entity_class] + path\n",
    "\n",
    "    # get parent\n",
    "    parents = list(graph.objects(entity_class, rdflib.RDFS.subClassOf))\n",
    "    # filter out BNodes - they are not useful to us here. We want explicit class definitions only.\n",
    "    parents = list(filter(lambda x: not isinstance(x, rdflib.term.BNode), parents))\n",
    "    \n",
    "    # take each path and climb\n",
    "    if len(parents)==0:\n",
    "        # print(\"I'm done with this path. Returning: \")\n",
    "        # print([path])\n",
    "        return [path]\n",
    "    else:\n",
    "        paths = []\n",
    "        for p in parents:\n",
    "            new_paths = _climb_class_heirarchy(p, graph, depth_limit, depth+1, path)\n",
    "            for new_path in new_paths:\n",
    "                paths.append(new_path)\n",
    "    return paths"
   ]
  },
  {
   "cell_type": "code",
   "execution_count": 20,
   "metadata": {},
   "outputs": [],
   "source": [
    "# PATH FORMATTER (SIMPLIFIER)\n",
    "def path_2_termString(path: List[rdflib.term.URIRef]) -> List[str]:\n",
    "    '''\n",
    "    Given a list of URIRefs, resolve to a list of term strings (no namespace)\n",
    "    '''\n",
    "    output = []\n",
    "    for uri in path:\n",
    "        _, term, _ = uri_spliter(uri)\n",
    "        output.append(term)\n",
    "    \n",
    "    return output\n"
   ]
  },
  {
   "cell_type": "code",
   "execution_count": 21,
   "metadata": {},
   "outputs": [
    {
     "name": "stdout",
     "output_type": "stream",
     "text": [
      "No class found in graph for entity https://brickschema.org/schema/Brick#operationalStageCount. \n",
      "SKIPPING\n",
      "Not progressing: https://brickschema.org/schema/Brick#TemperatureCoefficientPerDegreeCelsiusShape\n",
      "No class found in graph for entity https://brickschema.org/schema/Brick#Differential_Dry_Bulb_Temperature. \n",
      "SKIPPING\n",
      "No class found in graph for entity https://brickschema.org/schema/Brick#Dry_Bulb_Temperature. \n",
      "SKIPPING\n",
      "No class found in graph for entity https://brickschema.org/schema/Brick#Apparent_Power. \n",
      "SKIPPING\n",
      "No class found in graph for entity https://brickschema.org/schema/Brick#Torque. \n",
      "SKIPPING\n",
      "No class found in graph for entity https://brickschema.org/schema/Brick#coolingCapacity. \n",
      "SKIPPING\n",
      "No class found in graph for entity https://brickschema.org/schema/Brick#Electric_Energy. \n",
      "SKIPPING\n",
      "No class found in graph for entity https://brickschema.org/schema/Brick#Flow_Loss. \n",
      "SKIPPING\n",
      "No class found in graph for entity https://brickschema.org/schema/Brick#Real_Power. \n",
      "SKIPPING\n",
      "No class found in graph for entity https://brickschema.org/schema/Brick#operationalStage. \n",
      "SKIPPING\n",
      "No class found in graph for entity https://brickschema.org/schema/Brick#currentFlowType. \n",
      "SKIPPING\n",
      "No class found in graph for entity https://brickschema.org/schema/Brick#Radiance. \n",
      "SKIPPING\n",
      "No class found in graph for entity https://brickschema.org/schema/Brick#Cloudage. \n",
      "SKIPPING\n",
      "No class found in graph for entity https://brickschema.org/schema/Brick#Enthalpy. \n",
      "SKIPPING\n",
      "No class found in graph for entity https://brickschema.org/schema/Brick#Capacity. \n",
      "SKIPPING\n",
      "No class found in graph for entity https://brickschema.org/schema/Brick#ratedMinimumCurrentOutput. \n",
      "SKIPPING\n",
      "No class found in graph for entity https://brickschema.org/schema/Brick#Differential_CO2_Concentration. \n",
      "SKIPPING\n",
      "No class found in graph for entity https://brickschema.org/schema/Brick#grossArea. \n",
      "SKIPPING\n",
      "No class found in graph for entity https://brickschema.org/schema/Brick#measuredPowerOutput. \n",
      "SKIPPING\n",
      "No class found in graph for entity https://brickschema.org/schema/Brick#Differential_Pressure. \n",
      "SKIPPING\n",
      "No class found in graph for entity https://brickschema.org/schema/Brick#Static_Pressure. \n",
      "SKIPPING\n",
      "No class found in graph for entity https://brickschema.org/schema/Brick#Direction. \n",
      "SKIPPING\n",
      "No class found in graph for entity https://brickschema.org/schema/Brick#Wind_Direction. \n",
      "SKIPPING\n",
      "No class found in graph for entity https://brickschema.org/schema/Brick#conversionEfficiency. \n",
      "SKIPPING\n",
      "No class found in graph for entity https://brickschema.org/schema/Brick#Air_Quality. \n",
      "SKIPPING\n",
      "No class found in graph for entity https://brickschema.org/schema/Brick#Operative_Temperature. \n",
      "SKIPPING\n",
      "No class found in graph for entity https://brickschema.org/schema/Brick#Phasor_Magnitude. \n",
      "SKIPPING\n",
      "No class found in graph for entity https://brickschema.org/schema/Brick#Deceleration_Time. \n",
      "SKIPPING\n",
      "No class found in graph for entity https://brickschema.org/schema/Brick#Current_Angle. \n",
      "SKIPPING\n",
      "No class found in graph for entity https://brickschema.org/schema/Brick#Luminous_Flux. \n",
      "SKIPPING\n",
      "No class found in graph for entity https://brickschema.org/schema/Brick#Mass. \n",
      "SKIPPING\n",
      "No class found in graph for entity https://brickschema.org/schema/Brick#measuredPowerInput. \n",
      "SKIPPING\n",
      "No class found in graph for entity https://brickschema.org/schema/Brick#tilt. \n",
      "SKIPPING\n",
      "Not progressing: https://brickschema.org/schema/Brick#AzimuthShape\n",
      "Not progressing: https://brickschema.org/schema/Brick#CoordinateShape\n",
      "Not progressing: https://brickschema.org/schema/Brick#PowerFlowShape\n",
      "Not progressing: https://brickschema.org/schema/Brick#VolumeShape\n",
      "No class found in graph for entity https://brickschema.org/schema/Brick#Radon_Concentration. \n",
      "SKIPPING\n",
      "No class found in graph for entity https://brickschema.org/schema/Brick#ratedVoltageOutput. \n",
      "SKIPPING\n",
      "No class found in graph for entity https://brickschema.org/schema/Brick#Occupancy_Percentage. \n",
      "SKIPPING\n",
      "No class found in graph for entity https://brickschema.org/schema/Brick#PM2.5_Concentration. \n",
      "SKIPPING\n",
      "No class found in graph for entity https://brickschema.org/schema/Brick#GrainsOfMoisture. \n",
      "SKIPPING\n",
      "No class found in graph for entity https://brickschema.org/schema/Brick#Phasor_Angle. \n",
      "SKIPPING\n",
      "No class found in graph for entity https://brickschema.org/schema/Brick#buildingThermalTransmittance. \n",
      "SKIPPING\n",
      "No class found in graph for entity https://brickschema.org/schema/Brick#Luminous_Intensity. \n",
      "SKIPPING\n",
      "No class found in graph for entity https://brickschema.org/schema/Brick#Level. \n",
      "SKIPPING\n",
      "No class found in graph for entity https://brickschema.org/schema/Brick#panelArea. \n",
      "SKIPPING\n",
      "No class found in graph for entity https://brickschema.org/schema/Brick#Active_Energy. \n",
      "SKIPPING\n",
      "No class found in graph for entity https://brickschema.org/schema/Brick#aggregate. \n",
      "SKIPPING\n",
      "No class found in graph for entity https://brickschema.org/schema/Brick#Current_Imbalance. \n",
      "SKIPPING\n",
      "No class found in graph for entity https://brickschema.org/schema/Brick#Irradiance. \n",
      "SKIPPING\n",
      "No class found in graph for entity https://brickschema.org/schema/Brick#ratedMaximumCurrentOutput. \n",
      "SKIPPING\n",
      "Not progressing: https://brickschema.org/schema/Brick#AreaShape\n",
      "No class found in graph for entity https://brickschema.org/schema/Brick#Relative_Humidity. \n",
      "SKIPPING\n",
      "No class found in graph for entity https://brickschema.org/schema/Brick#thermalTransmittance. \n",
      "SKIPPING\n",
      "No class found in graph for entity https://brickschema.org/schema/Brick#ratedPowerInput. \n",
      "SKIPPING\n",
      "No class found in graph for entity https://brickschema.org/schema/Brick#Pressure. \n",
      "SKIPPING\n",
      "Not progressing: https://brickschema.org/schema/Brick#PhaseCountShape\n",
      "No class found in graph for entity https://brickschema.org/schema/Brick#Occupancy. \n",
      "SKIPPING\n",
      "No class found in graph for entity https://brickschema.org/schema/Brick#ratedMinimumCurrentInput. \n",
      "SKIPPING\n",
      "No class found in graph for entity https://brickschema.org/schema/Brick#Illuminance. \n",
      "SKIPPING\n",
      "No class found in graph for entity https://brickschema.org/schema/Brick#Humidity. \n",
      "SKIPPING\n",
      "Not progressing: https://brickschema.org/schema/Brick#StageShape\n",
      "No class found in graph for entity https://brickschema.org/schema/Brick#Ozone_Concentration. \n",
      "SKIPPING\n",
      "No class found in graph for entity https://brickschema.org/schema/Brick#ratedModuleConversionEfficiency. \n",
      "SKIPPING\n",
      "No class found in graph for entity https://brickschema.org/schema/Brick#powerFlow. \n",
      "SKIPPING\n",
      "No class found in graph for entity https://brickschema.org/schema/Brick#CO_Concentration. \n",
      "SKIPPING\n",
      "No class found in graph for entity https://brickschema.org/schema/Brick#netArea. \n",
      "SKIPPING\n",
      "Not progressing: https://brickschema.org/schema/Brick#ThermalTransmittanceShape\n",
      "No class found in graph for entity https://brickschema.org/schema/Brick#Differential_Temperature. \n",
      "SKIPPING\n",
      "No class found in graph for entity https://brickschema.org/schema/Brick#Solar_Radiance. \n",
      "SKIPPING\n",
      "No class found in graph for entity https://brickschema.org/schema/Brick#Time. \n",
      "SKIPPING\n",
      "No class found in graph for entity https://brickschema.org/schema/Brick#ratedMaximumVoltageOutput. \n",
      "SKIPPING\n",
      "No class found in graph for entity https://brickschema.org/schema/Brick#Speed. \n",
      "SKIPPING\n",
      "Not progressing: https://brickschema.org/schema/Brick#CurrentFlowTypeShape\n",
      "Not progressing: https://brickschema.org/schema/Brick#BuildingPrimaryFunctionShape\n",
      "No class found in graph for entity https://brickschema.org/schema/Brick#Power_Factor. \n",
      "SKIPPING\n",
      "Not progressing: https://brickschema.org/schema/Brick#YearBuiltShape\n",
      "No class found in graph for entity https://brickschema.org/schema/Brick#Voltage_Angle. \n",
      "SKIPPING\n",
      "Not progressing: https://brickschema.org/schema/Brick#EfficiencyShape\n",
      "No class found in graph for entity https://brickschema.org/schema/Brick#electricalPhases. \n",
      "SKIPPING\n",
      "No class found in graph for entity https://brickschema.org/schema/Brick#Power. \n",
      "SKIPPING\n",
      "No class found in graph for entity https://brickschema.org/schema/Brick#Voltage. \n",
      "SKIPPING\n",
      "No class found in graph for entity https://brickschema.org/schema/Brick#electricalPhaseCount. \n",
      "SKIPPING\n",
      "No class found in graph for entity https://brickschema.org/schema/Brick#coordinates. \n",
      "SKIPPING\n",
      "No class found in graph for entity https://brickschema.org/schema/Brick#Formaldehyde_Concentration. \n",
      "SKIPPING\n",
      "No class found in graph for entity https://brickschema.org/schema/Brick#Phasor. \n",
      "SKIPPING\n",
      "No class found in graph for entity https://brickschema.org/schema/Brick#Thermal_Power. \n",
      "SKIPPING\n",
      "No class found in graph for entity https://brickschema.org/schema/Brick#Differential_Static_Pressure. \n",
      "SKIPPING\n",
      "No class found in graph for entity https://brickschema.org/schema/Brick#Differential_Dynamic_Pressure. \n",
      "SKIPPING\n",
      "No class found in graph for entity https://brickschema.org/schema/Brick#Position. \n",
      "SKIPPING\n",
      "No class found in graph for entity https://brickschema.org/schema/Brick#Frequency. \n",
      "SKIPPING\n",
      "No class found in graph for entity https://brickschema.org/schema/Brick#Energy. \n",
      "SKIPPING\n",
      "No class found in graph for entity https://brickschema.org/schema/Brick#Conductivity. \n",
      "SKIPPING\n",
      "No class found in graph for entity https://brickschema.org/schema/Brick#temperatureCoefficientofPmax. \n",
      "SKIPPING\n",
      "Not progressing: https://brickschema.org/schema/Brick#PowerComplexityShape\n",
      "Not progressing: https://brickschema.org/schema/Brick#PhasesShape\n",
      "No class found in graph for entity https://brickschema.org/schema/Brick#Active_Power. \n",
      "SKIPPING\n",
      "No class found in graph for entity https://brickschema.org/schema/Brick#volume. \n",
      "SKIPPING\n",
      "No class found in graph for entity https://brickschema.org/schema/Brick#Atmospheric_Pressure. \n",
      "SKIPPING\n",
      "No class found in graph for entity https://brickschema.org/schema/Brick#PM1_Concentration. \n",
      "SKIPPING\n",
      "No class found in graph for entity https://brickschema.org/schema/Brick#Electric_Power. \n",
      "SKIPPING\n",
      "Not progressing: https://brickschema.org/schema/Brick#CoolingCapacityShape\n",
      "No class found in graph for entity https://brickschema.org/schema/Brick#area. \n",
      "SKIPPING\n",
      "No class found in graph for entity https://brickschema.org/schema/Brick#CO2_Concentration. \n",
      "SKIPPING\n",
      "No class found in graph for entity https://brickschema.org/schema/Brick#Apparent_Energy. \n",
      "SKIPPING\n",
      "No class found in graph for entity https://brickschema.org/schema/Brick#Temperature. \n",
      "SKIPPING\n",
      "No class found in graph for entity https://brickschema.org/schema/Brick#TVOC_Concentration. \n",
      "SKIPPING\n",
      "No class found in graph for entity https://brickschema.org/schema/Brick#Velocity_Pressure. \n",
      "SKIPPING\n",
      "No class found in graph for entity https://brickschema.org/schema/Brick#Luminance. \n",
      "SKIPPING\n",
      "No class found in graph for entity https://brickschema.org/schema/Brick#Thermal_Energy. \n",
      "SKIPPING\n",
      "No class found in graph for entity https://brickschema.org/schema/Brick#Dynamic_Pressure. \n",
      "SKIPPING\n",
      "No class found in graph for entity https://brickschema.org/schema/Brick#Electric_Current. \n",
      "SKIPPING\n",
      "No class found in graph for entity https://brickschema.org/schema/Brick#ratedVoltageInput. \n",
      "SKIPPING\n",
      "No class found in graph for entity https://brickschema.org/schema/Brick#Radioactivity_Concentration. \n",
      "SKIPPING\n",
      "No class found in graph for entity https://brickschema.org/schema/Brick#Peak_Power. \n",
      "SKIPPING\n",
      "Not progressing: https://brickschema.org/schema/Brick#PowerShape\n",
      "No class found in graph for entity https://brickschema.org/schema/Brick#Wet_Bulb_Temperature. \n",
      "SKIPPING\n",
      "No class found in graph for entity https://brickschema.org/schema/Brick#Radiant_Temperature. \n",
      "SKIPPING\n",
      "No class found in graph for entity https://brickschema.org/schema/Brick#Ammonia_Concentration. \n",
      "SKIPPING\n",
      "No class found in graph for entity https://brickschema.org/schema/Brick#Angle. \n",
      "SKIPPING\n",
      "No class found in graph for entity https://brickschema.org/schema/Brick#Voltage_Imbalance. \n",
      "SKIPPING\n",
      "No class found in graph for entity https://brickschema.org/schema/Brick#Current_Total_Harmonic_Distortion. \n",
      "SKIPPING\n",
      "No class found in graph for entity https://brickschema.org/schema/Brick#Acceleration_Time. \n",
      "SKIPPING\n",
      "No class found in graph for entity https://brickschema.org/schema/Brick#ratedMinimumVoltageInput. \n",
      "SKIPPING\n",
      "Not progressing: https://brickschema.org/schema/Brick#TemperatureShape\n",
      "No class found in graph for entity https://brickschema.org/schema/Brick#Solar_Irradiance. \n",
      "SKIPPING\n",
      "No class found in graph for entity https://brickschema.org/schema/Brick#Differential_CO_Concentration. \n",
      "SKIPPING\n",
      "No class found in graph for entity https://brickschema.org/schema/Brick#ratedCurrentInput. \n",
      "SKIPPING\n",
      "No class found in graph for entity https://brickschema.org/schema/Brick#Dewpoint. \n",
      "SKIPPING\n",
      "No class found in graph for entity https://brickschema.org/schema/Brick#azimuth. \n",
      "SKIPPING\n",
      "No class found in graph for entity https://brickschema.org/schema/Brick#Absolute_Humidity. \n",
      "SKIPPING\n",
      "No class found in graph for entity https://brickschema.org/schema/Brick#ratedMinimumVoltageOutput. \n",
      "SKIPPING\n",
      "No class found in graph for entity https://brickschema.org/schema/Brick#powerComplexity. \n",
      "SKIPPING\n",
      "No class found in graph for entity https://brickschema.org/schema/Brick#ratedMaximumVoltageInput. \n",
      "SKIPPING\n",
      "No class found in graph for entity https://brickschema.org/schema/Brick#yearBuilt. \n",
      "SKIPPING\n",
      "No class found in graph for entity https://brickschema.org/schema/Brick#Weather_Condition. \n",
      "SKIPPING\n",
      "No class found in graph for entity https://brickschema.org/schema/Brick#buildingPrimaryFunction. \n",
      "SKIPPING\n",
      "Not progressing: https://brickschema.org/schema/Brick#VoltageShape\n",
      "No class found in graph for entity https://brickschema.org/schema/Brick#ratedPowerOutput. \n",
      "SKIPPING\n",
      "No class found in graph for entity https://brickschema.org/schema/Brick#NO2_Concentration. \n",
      "SKIPPING\n",
      "Not progressing: https://brickschema.org/schema/Brick#AggregationShape\n",
      "No class found in graph for entity https://brickschema.org/schema/Brick#Precipitation. \n",
      "SKIPPING\n",
      "No class found in graph for entity https://brickschema.org/schema/Brick#measuredModuleConversionEfficiency. \n",
      "SKIPPING\n",
      "No class found in graph for entity https://brickschema.org/schema/Brick#Occupancy_Count. \n",
      "SKIPPING\n",
      "Not progressing: https://brickschema.org/schema/Brick#TiltShape\n",
      "No class found in graph for entity https://brickschema.org/schema/Brick#ratedMaximumCurrentInput. \n",
      "SKIPPING\n",
      "No class found in graph for entity https://brickschema.org/schema/Brick#Wind_Speed. \n",
      "SKIPPING\n",
      "No class found in graph for entity https://brickschema.org/schema/Brick#Flow. \n",
      "SKIPPING\n",
      "No class found in graph for entity https://brickschema.org/schema/Brick#Reactive_Power. \n",
      "SKIPPING\n",
      "No class found in graph for entity https://brickschema.org/schema/Brick#ratedCurrentOutput. \n",
      "SKIPPING\n",
      "No class found in graph for entity https://brickschema.org/schema/Brick#Methane_Concentration. \n",
      "SKIPPING\n",
      "No class found in graph for entity https://brickschema.org/schema/1.2/Brick. \n",
      "SKIPPING\n",
      "No class found in graph for entity https://brickschema.org/schema/Brick#PM10_Concentration. \n",
      "SKIPPING\n",
      "No class found in graph for entity https://brickschema.org/schema/Brick#Alternating_Current_Frequency. \n",
      "SKIPPING\n",
      "No class found in graph for entity https://brickschema.org/schema/Brick#Complex_Power. \n",
      "SKIPPING\n",
      "Not progressing: https://brickschema.org/schema/Brick#CurrentShape\n"
     ]
    }
   ],
   "source": [
    "# generate path data and data row\n",
    "data = []\n",
    "for idx, s in enumerate(subjects):\n",
    "    namespace, term, prefix = uri_spliter(s, ds_g_ns)\n",
    "\n",
    "\n",
    "    ### GOING TO SKIP THIS FOR NOW AND JUST PROCESS ENTITIES IF THEY ARE A CLASS DEFINTION OR OBJECT PROPERTY (relationships).\n",
    "    ### TODO: Come back and update this to handle shapes, entityProperties, etc.\n",
    "\n",
    "    # # Check type -> If Class, then get class path. If instance, get class, then get class path\n",
    "    # # need to filter self out\n",
    "    # s_class = list(filter(lambda x: x != s, ds.objects(s, rdflib.RDF.type)))\n",
    "    # if len(s_class)==0:\n",
    "    #     raise ValueError(f\"No class found in graph for entity {s}.\")\n",
    "    # elif len(s_class) > 1:\n",
    "    #     # raise ValueError(f\"Too many types exist for the class. Please review: {s}.\")\n",
    "    #     print(f\"Too many types exist for the class. SKIPPING. Please review: {s}.\")\n",
    "    #     continue\n",
    "    # else:\n",
    "    #     if s_class[0] != rdflib.OWL.Class:\n",
    "    #         # Set this as first path item\n",
    "    #         initial_path = s_class\n",
    "    #     else: \n",
    "    #         initial_path = []\n",
    "\n",
    "    ### BASIC VERSION\n",
    "    # Get subject type(s) [filter self out]\n",
    "    s_class = list(filter(lambda x: x != s, ds.objects(s, rdflib.RDF.type)))\n",
    "    # filter down to only owl.class and owl.objectproperty, and sh:NodeShape so we can remove it -> these are what we will process\n",
    "    s_class = list(filter(lambda x: x in [rdflib.OWL.Class, rdflib.OWL.ObjectProperty, rdflib.SH.NodeShape], s_class))\n",
    "    \n",
    "    if len(s_class)==0:\n",
    "        print(f\"No class found in graph for entity {s}. \\nSKIPPING\")\n",
    "        continue\n",
    "\n",
    "    if rdflib.SH.NodeShape in s_class:\n",
    "        # OLD. We are excluding this now\n",
    "        # # fixed path\n",
    "        # paths = [[rdflib.SH.NodeShape, s]]\n",
    "\n",
    "        # NEW\n",
    "        # if the name term contains shape, skip it. Else treat it as a class.\n",
    "        if \"Shape\" in term:\n",
    "            print(f\"Not progressing: {s}\")\n",
    "            continue\n",
    "        else:\n",
    "            s_class.remove(rdflib.SH.NodeShape)\n",
    "\n",
    "\n",
    "    if s_class[0] != rdflib.OWL.Class:\n",
    "        # If not a class then \n",
    "        paths = [[*s_class, s]]\n",
    "    else:\n",
    "        paths = get_class_heirarchy(s, ds)\n",
    "\n",
    "    # Get description\n",
    "    desc = list(ds.objects(s, rdflib.SKOS.definition))\n",
    "    if len(desc) == 0: desc=\"\"\n",
    "    else: desc = desc[0]\n",
    "\n",
    "    #if multiple paths, make multiple rows.\n",
    "    for p_idx, path in enumerate(paths):\n",
    "        data.append({\n",
    "            \"uri\": s,\n",
    "            \"namespace\": namespace,\n",
    "            \"prefix\": prefix,\n",
    "            \"term\": term,\n",
    "            \"desc\": desc,\n",
    "            \"path\": {\n",
    "                \"full\": path,\n",
    "                \"agGridPath\": path_2_termString(path)\n",
    "            },\n",
    "            \"idx\": f\"{idx}.{p_idx}\"\n",
    "        })\n"
   ]
  },
  {
   "cell_type": "markdown",
   "metadata": {},
   "source": [
    "### CLEAN UP"
   ]
  },
  {
   "cell_type": "code",
   "execution_count": 22,
   "metadata": {},
   "outputs": [],
   "source": [
    "### FINAL FILTERING\n",
    "# Some split pathways end at sosa:ObservableProperty, sosa:FeatureOfInterest, skos:Concept. We are not interested in these and are going to remove objects that terminate there.\n",
    "final_data = [item for item in data if item['path']['full'][0] not in [rdflib.SSN.ObservableProperty, rdflib.SSN.FeatureOfInterest, rdflib.SKOS.Concept]]"
   ]
  },
  {
   "cell_type": "markdown",
   "metadata": {},
   "source": [
    "### MANUAL DATA INJECTION\n",
    "Any objects that are needed for the website but that are not defined in provided ontology files. Generally just some high level rdf definition classes."
   ]
  },
  {
   "cell_type": "code",
   "execution_count": 23,
   "metadata": {},
   "outputs": [],
   "source": [
    "# Get last idx\n",
    "# We can just manually write these for now as the idx range '0.x' is free.\n",
    "# idx = int(float(final_data[-1][\"idx\"]))\n",
    "\n",
    "# Add owl:ObjectProperty\n",
    "# idx += 1\n",
    "final_data.append({\n",
    "    \"uri\": \"http://www.w3.org/2002/07/owl#ObjectProperty\",\n",
    "    \"namespace\": \"http://www.w3.org/2002/07/owl\",\n",
    "    \"prefix\": \"owl\",\n",
    "    \"term\": \"ObjectProperty\",\n",
    "    \"desc\": \"A property axiom defines characteristics of a property. In its simplest form, a property axiom just defines the existence of a property. Object properties link individuals to individuals.\",\n",
    "    \"path\": {\n",
    "      \"full\": [\n",
    "        \"http://www.w3.org/2002/07/owl#ObjectProperty\"\n",
    "      ],\n",
    "      \"agGridPath\": [\n",
    "        \"ObjectProperty\"\n",
    "      ]\n",
    "    },\n",
    "    \"idx\": \"0.1\"\n",
    "})"
   ]
  },
  {
   "cell_type": "markdown",
   "metadata": {},
   "source": [
    "### EXPORT"
   ]
  },
  {
   "cell_type": "code",
   "execution_count": 24,
   "metadata": {},
   "outputs": [],
   "source": [
    "with open(\"data.json\", \"w\") as f:\n",
    "    json.dump(final_data, f, indent=2)"
   ]
  },
  {
   "cell_type": "markdown",
   "metadata": {},
   "source": [
    "## WORKING"
   ]
  },
  {
   "cell_type": "code",
   "execution_count": 44,
   "metadata": {},
   "outputs": [
    {
     "data": {
      "text/plain": [
       "rdflib.term.URIRef('http://www.w3.org/ns/shacl#NodeShape')"
      ]
     },
     "execution_count": 44,
     "metadata": {},
     "output_type": "execute_result"
    }
   ],
   "source": [
    "s = subjects[13]\n",
    "uri_spliter(subjects[13])\n",
    "s_class = list(filter(lambda x: x != s, ds.objects(s, rdflib.RDF.type)))\n",
    "s_class[0]"
   ]
  },
  {
   "cell_type": "code",
   "execution_count": 45,
   "metadata": {},
   "outputs": [
    {
     "data": {
      "text/plain": [
       "True"
      ]
     },
     "execution_count": 45,
     "metadata": {},
     "output_type": "execute_result"
    }
   ],
   "source": [
    "rdflib.SH.NodeShape in s_class"
   ]
  },
  {
   "cell_type": "code",
   "execution_count": 56,
   "metadata": {},
   "outputs": [
    {
     "data": {
      "text/plain": [
       "rdflib.term.URIRef('http://www.w3.org/ns/sosa/ObservableProperty')"
      ]
     },
     "execution_count": 56,
     "metadata": {},
     "output_type": "execute_result"
    }
   ],
   "source": [
    "rdflib.SSN.ObservableProperty"
   ]
  },
  {
   "cell_type": "code",
   "execution_count": 39,
   "metadata": {},
   "outputs": [
    {
     "data": {
      "text/plain": [
       "True"
      ]
     },
     "execution_count": 39,
     "metadata": {},
     "output_type": "execute_result"
    }
   ],
   "source": [
    "\"Shape\" in uri_spliter(subjects[13])[1]"
   ]
  },
  {
   "cell_type": "code",
   "execution_count": 89,
   "metadata": {},
   "outputs": [
    {
     "data": {
      "text/plain": [
       "{'uri': rdflib.term.URIRef('https://brickschema.org/schema/Brick#Power'),\n",
       " 'namespace': 'https://brickschema.org/schema/Brick',\n",
       " 'prefix': 'brick',\n",
       " 'term': 'Power',\n",
       " 'path': {'full': [rdflib.term.URIRef('https://brickschema.org/schema/Brick#Power')],\n",
       "  'agGridPath': ['Power']},\n",
       " 'idx': '943.0'}"
      ]
     },
     "execution_count": 89,
     "metadata": {},
     "output_type": "execute_result"
    }
   ],
   "source": [
    "data[1174]"
   ]
  },
  {
   "cell_type": "code",
   "execution_count": 39,
   "metadata": {},
   "outputs": [
    {
     "data": {
      "text/plain": [
       "('test', '1')"
      ]
     },
     "execution_count": 39,
     "metadata": {},
     "output_type": "execute_result"
    }
   ],
   "source": [
    "uri_spliter(rdflib.URIRef(\"test#1\"), ds_g_ns)"
   ]
  },
  {
   "cell_type": "code",
   "execution_count": 26,
   "metadata": {},
   "outputs": [
    {
     "data": {
      "text/plain": [
       "'https://brickschema.org/schema/Brick#'"
      ]
     },
     "execution_count": 26,
     "metadata": {},
     "output_type": "execute_result"
    }
   ],
   "source": [
    "ds_g_ns['brick'].toPython()"
   ]
  },
  {
   "cell_type": "code",
   "execution_count": 7,
   "metadata": {},
   "outputs": [
    {
     "data": {
      "text/plain": [
       "rdflib.term.URIRef('http://qudt.org/vocab/unit/NUM-PER-HR')"
      ]
     },
     "execution_count": 7,
     "metadata": {},
     "output_type": "execute_result"
    }
   ],
   "source": [
    "x1 = subjects[1]\n",
    "x1"
   ]
  },
  {
   "cell_type": "code",
   "execution_count": 8,
   "metadata": {},
   "outputs": [
    {
     "data": {
      "text/plain": [
       "[rdflib.term.URIRef('http://qudt.org/vocab/unit/Unit')]"
      ]
     },
     "execution_count": 8,
     "metadata": {},
     "output_type": "execute_result"
    }
   ],
   "source": [
    "o = list(filter(lambda x: x != x1, list(ds.objects(x1, rdflib.RDF.type)))) \n",
    "#== rdflib.OWL.Class\n",
    "o"
   ]
  },
  {
   "cell_type": "code",
   "execution_count": 44,
   "metadata": {},
   "outputs": [
    {
     "data": {
      "text/plain": [
       "rdflib.term.URIRef('http://www.w3.org/2002/07/owl#Class')"
      ]
     },
     "execution_count": 44,
     "metadata": {},
     "output_type": "execute_result"
    }
   ],
   "source": [
    "rdflib.OWL.Class"
   ]
  },
  {
   "cell_type": "code",
   "execution_count": 45,
   "metadata": {},
   "outputs": [
    {
     "data": {
      "text/plain": [
       "[rdflib.term.URIRef('http://www.w3.org/2002/07/owl#ObjectProperty')]"
      ]
     },
     "execution_count": 45,
     "metadata": {},
     "output_type": "execute_result"
    }
   ],
   "source": [
    "# filter down to only owl.class and owl.objectproperty\n",
    "list(filter(lambda x: x in [rdflib.OWL.Class, rdflib.OWL.ObjectProperty], o))"
   ]
  },
  {
   "cell_type": "code",
   "execution_count": 54,
   "metadata": {},
   "outputs": [
    {
     "ename": "ValueError",
     "evalue": "No class found in graph for class http://www.w3.org/2002/07/owl#ObjectProperty.",
     "output_type": "error",
     "traceback": [
      "\u001b[1;31m---------------------------------------------------------------------------\u001b[0m",
      "\u001b[1;31mValueError\u001b[0m                                Traceback (most recent call last)",
      "\u001b[1;32m<ipython-input-54-6acb76e52a25>\u001b[0m in \u001b[0;36m<module>\u001b[1;34m\u001b[0m\n\u001b[1;32m----> 1\u001b[1;33m \u001b[0mget_class_heirarchy\u001b[0m\u001b[1;33m(\u001b[0m\u001b[0mo\u001b[0m\u001b[1;33m[\u001b[0m\u001b[1;36m1\u001b[0m\u001b[1;33m]\u001b[0m\u001b[1;33m,\u001b[0m \u001b[0mds\u001b[0m\u001b[1;33m)\u001b[0m\u001b[1;33m\u001b[0m\u001b[1;33m\u001b[0m\u001b[0m\n\u001b[0m",
      "\u001b[1;32m<ipython-input-50-a1ec456b332e>\u001b[0m in \u001b[0;36mget_class_heirarchy\u001b[1;34m(class_uri, graph, base_level, depth_limit, initial_path)\u001b[0m\n\u001b[0;32m     13\u001b[0m     \u001b[1;31m# Check Class exists\u001b[0m\u001b[1;33m\u001b[0m\u001b[1;33m\u001b[0m\u001b[1;33m\u001b[0m\u001b[0m\n\u001b[0;32m     14\u001b[0m     \u001b[1;32mif\u001b[0m \u001b[1;33m(\u001b[0m\u001b[0mclass_uri\u001b[0m\u001b[1;33m,\u001b[0m \u001b[1;32mNone\u001b[0m\u001b[1;33m,\u001b[0m \u001b[1;32mNone\u001b[0m\u001b[1;33m)\u001b[0m \u001b[1;32mnot\u001b[0m \u001b[1;32min\u001b[0m \u001b[0mgraph\u001b[0m\u001b[1;33m:\u001b[0m\u001b[1;33m\u001b[0m\u001b[1;33m\u001b[0m\u001b[0m\n\u001b[1;32m---> 15\u001b[1;33m         \u001b[1;32mraise\u001b[0m \u001b[0mValueError\u001b[0m\u001b[1;33m(\u001b[0m\u001b[1;34mf\"No class found in graph for class {class_uri}.\"\u001b[0m\u001b[1;33m)\u001b[0m\u001b[1;33m\u001b[0m\u001b[1;33m\u001b[0m\u001b[0m\n\u001b[0m\u001b[0;32m     16\u001b[0m \u001b[1;33m\u001b[0m\u001b[0m\n\u001b[0;32m     17\u001b[0m     \u001b[0mpath\u001b[0m \u001b[1;33m=\u001b[0m \u001b[0m_climb_class_heirarchy\u001b[0m\u001b[1;33m(\u001b[0m\u001b[0mclass_uri\u001b[0m\u001b[1;33m,\u001b[0m \u001b[0mgraph\u001b[0m\u001b[1;33m,\u001b[0m \u001b[0mdepth_limit\u001b[0m\u001b[1;33m,\u001b[0m \u001b[0mdepth\u001b[0m\u001b[1;33m,\u001b[0m \u001b[0minitial_path\u001b[0m\u001b[1;33m)\u001b[0m\u001b[1;33m\u001b[0m\u001b[1;33m\u001b[0m\u001b[0m\n",
      "\u001b[1;31mValueError\u001b[0m: No class found in graph for class http://www.w3.org/2002/07/owl#ObjectProperty."
     ]
    }
   ],
   "source": [
    "get_class_heirarchy(o[1], ds)"
   ]
  },
  {
   "cell_type": "code",
   "execution_count": 16,
   "metadata": {},
   "outputs": [
    {
     "ename": "TypeError",
     "evalue": "namespaces() takes 1 positional argument but 2 were given",
     "output_type": "error",
     "traceback": [
      "\u001b[1;31m---------------------------------------------------------------------------\u001b[0m",
      "\u001b[1;31mTypeError\u001b[0m                                 Traceback (most recent call last)",
      "\u001b[1;32m<ipython-input-16-3db0f49b02dd>\u001b[0m in \u001b[0;36m<module>\u001b[1;34m\u001b[0m\n\u001b[1;32m----> 1\u001b[1;33m \u001b[0mds\u001b[0m\u001b[1;33m.\u001b[0m\u001b[0mnamespaces\u001b[0m\u001b[1;33m(\u001b[0m\u001b[0mx1\u001b[0m\u001b[1;33m)\u001b[0m\u001b[1;33m\u001b[0m\u001b[1;33m\u001b[0m\u001b[0m\n\u001b[0m",
      "\u001b[1;31mTypeError\u001b[0m: namespaces() takes 1 positional argument but 2 were given"
     ]
    }
   ],
   "source": [
    "ds.namespaces(x1)"
   ]
  },
  {
   "cell_type": "code",
   "execution_count": 30,
   "metadata": {},
   "outputs": [
    {
     "data": {
      "text/plain": [
       "'https://brickschema.org/schema/Brick'"
      ]
     },
     "execution_count": 30,
     "metadata": {},
     "output_type": "execute_result"
    }
   ],
   "source": [
    "x.toPython().split(\"#\")[0] "
   ]
  },
  {
   "cell_type": "code",
   "execution_count": 67,
   "metadata": {},
   "outputs": [
    {
     "data": {
      "text/plain": [
       "['Class', 'Location', 'Space', 'Room', 'Food_Service_Room', 'Concession']"
      ]
     },
     "execution_count": 67,
     "metadata": {},
     "output_type": "execute_result"
    }
   ],
   "source": [
    "path_2_termString(data[0]['path'])"
   ]
  },
  {
   "cell_type": "code",
   "execution_count": 64,
   "metadata": {},
   "outputs": [
    {
     "data": {
      "text/plain": [
       "[rdflib.term.URIRef('https://brickschema.org/schema/Brick#Class'),\n",
       " rdflib.term.URIRef('https://brickschema.org/schema/Brick#Location'),\n",
       " rdflib.term.URIRef('https://brickschema.org/schema/Brick#Space'),\n",
       " rdflib.term.URIRef('https://brickschema.org/schema/Brick#Room'),\n",
       " rdflib.term.URIRef('https://brickschema.org/schema/Brick#Food_Service_Room'),\n",
       " rdflib.term.URIRef('https://brickschema.org/schema/Brick#Concession')]"
      ]
     },
     "execution_count": 64,
     "metadata": {},
     "output_type": "execute_result"
    }
   ],
   "source": [
    "data[0]['path']"
   ]
  },
  {
   "cell_type": "code",
   "execution_count": 90,
   "metadata": {},
   "outputs": [
    {
     "data": {
      "text/plain": [
       "{'xml': rdflib.term.URIRef('http://www.w3.org/XML/1998/namespace'),\n",
       " 'rdf': rdflib.term.URIRef('http://www.w3.org/1999/02/22-rdf-syntax-ns#'),\n",
       " 'rdfs': rdflib.term.URIRef('http://www.w3.org/2000/01/rdf-schema#'),\n",
       " 'xsd': rdflib.term.URIRef('http://www.w3.org/2001/XMLSchema#'),\n",
       " 'brick': rdflib.term.URIRef('https://brickschema.org/schema/Brick#'),\n",
       " 'bsh': rdflib.term.URIRef('https://brickschema.org/schema/BrickShape#'),\n",
       " 'dcterms1': rdflib.term.URIRef('http://purl.org/dc/terms#'),\n",
       " 'owl': rdflib.term.URIRef('http://www.w3.org/2002/07/owl#'),\n",
       " 'qudt': rdflib.term.URIRef('http://qudt.org/schema/qudt/'),\n",
       " 'qudtqk': rdflib.term.URIRef('http://qudt.org/vocab/quantitykind/'),\n",
       " 'sdo': rdflib.term.URIRef('http://schema.org/'),\n",
       " 'sh': rdflib.term.URIRef('http://www.w3.org/ns/shacl#'),\n",
       " 'skos': rdflib.term.URIRef('http://www.w3.org/2004/02/skos/core#'),\n",
       " 'sosa': rdflib.term.URIRef('http://www.w3.org/ns/sosa/'),\n",
       " 'tag': rdflib.term.URIRef('https://brickschema.org/schema/BrickTag#'),\n",
       " 'unit': rdflib.term.URIRef('http://qudt.org/vocab/unit/'),\n",
       " 'vcard': rdflib.term.URIRef('http://www.w3.org/2006/vcard/ns#'),\n",
       " 'dcterms': rdflib.term.URIRef('http://purl.org/dc/terms#'),\n",
       " 'switch': rdflib.term.URIRef('https://switchautomation.com/schemas/BrickExtension#')}"
      ]
     },
     "execution_count": 90,
     "metadata": {},
     "output_type": "execute_result"
    }
   ],
   "source": [
    "ds_g_ns"
   ]
  },
  {
   "cell_type": "code",
   "execution_count": 93,
   "metadata": {},
   "outputs": [
    {
     "ename": "AttributeError",
     "evalue": "'URIRef' object has no attribute 'namespace'",
     "output_type": "error",
     "traceback": [
      "\u001b[1;31m---------------------------------------------------------------------------\u001b[0m",
      "\u001b[1;31mAttributeError\u001b[0m                            Traceback (most recent call last)",
      "\u001b[1;32m<ipython-input-93-fada8e9e6e89>\u001b[0m in \u001b[0;36m<module>\u001b[1;34m\u001b[0m\n\u001b[1;32m----> 1\u001b[1;33m \u001b[0mx\u001b[0m\u001b[1;33m.\u001b[0m\u001b[0mnamespace\u001b[0m\u001b[1;33m\u001b[0m\u001b[1;33m\u001b[0m\u001b[0m\n\u001b[0m",
      "\u001b[1;31mAttributeError\u001b[0m: 'URIRef' object has no attribute 'namespace'"
     ]
    }
   ],
   "source": []
  },
  {
   "cell_type": "code",
   "execution_count": 17,
   "metadata": {},
   "outputs": [
    {
     "data": {
      "text/plain": [
       "['http://qudt.org/vocab/unit/NUM-PER-HR']"
      ]
     },
     "execution_count": 17,
     "metadata": {},
     "output_type": "execute_result"
    }
   ],
   "source": [
    "x1.split('#')"
   ]
  },
  {
   "cell_type": "code",
   "execution_count": 18,
   "metadata": {},
   "outputs": [
    {
     "data": {
      "text/plain": [
       "['http://qudt.org/vocab/unit', 'NUM-PER-HR']"
      ]
     },
     "execution_count": 18,
     "metadata": {},
     "output_type": "execute_result"
    }
   ],
   "source": [
    "x1.rsplit(\"/\", 1)"
   ]
  },
  {
   "cell_type": "code",
   "execution_count": 26,
   "metadata": {},
   "outputs": [
    {
     "data": {
      "text/plain": [
       "'http://qudt.org/vocab/unit/'"
      ]
     },
     "execution_count": 26,
     "metadata": {},
     "output_type": "execute_result"
    }
   ],
   "source": [
    "uri_spliter(x1)[0]+\"/\""
   ]
  },
  {
   "cell_type": "code",
   "execution_count": 25,
   "metadata": {},
   "outputs": [
    {
     "data": {
      "text/plain": [
       "rdflib.term.URIRef('http://qudt.org/schema/qudt/')"
      ]
     },
     "execution_count": 25,
     "metadata": {},
     "output_type": "execute_result"
    }
   ],
   "source": [
    "ds_g_ns['qudt']"
   ]
  },
  {
   "cell_type": "code",
   "execution_count": null,
   "metadata": {},
   "outputs": [],
   "source": []
  }
 ],
 "metadata": {
  "kernelspec": {
   "display_name": "Python 3.8.8 ('py38')",
   "language": "python",
   "name": "python3"
  },
  "language_info": {
   "codemirror_mode": {
    "name": "ipython",
    "version": 3
   },
   "file_extension": ".py",
   "mimetype": "text/x-python",
   "name": "python",
   "nbconvert_exporter": "python",
   "pygments_lexer": "ipython3",
   "version": "3.8.8"
  },
  "orig_nbformat": 4,
  "vscode": {
   "interpreter": {
    "hash": "b94aae0755b31bb9e252a7477f4aba6a38cd672eab87056e845b513049d65940"
   }
  }
 },
 "nbformat": 4,
 "nbformat_minor": 2
}
